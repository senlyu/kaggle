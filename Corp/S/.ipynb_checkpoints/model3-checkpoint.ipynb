{
 "cells": [
  {
   "cell_type": "code",
   "execution_count": 18,
   "metadata": {
    "collapsed": true,
    "deletable": true,
    "editable": true
   },
   "outputs": [],
   "source": [
    "# coding: utf-8\n",
    "\n",
    "import pandas as pd\n",
    "from datetime import timedelta\n",
    "import datetime"
   ]
  },
  {
   "cell_type": "code",
   "execution_count": 19,
   "metadata": {
    "collapsed": false,
    "deletable": true,
    "editable": true
   },
   "outputs": [
    {
     "name": "stdout",
     "output_type": "stream",
     "text": [
      "start 2017-11-26 21:13:33.243731\n"
     ]
    }
   ],
   "source": [
    "#---------------------------------------------------------\n",
    "print('start',datetime.datetime.now())\n",
    "\n",
    "dtypes = {'id':'uint32', 'item_nbr':'int32', 'store_nbr':'int8', 'unit_sales':'float32'}\n",
    "\n",
    "train = pd.read_csv('~/git/data/train.csv', usecols=[1,2,3,4], dtype=dtypes, parse_dates=['date'],\n",
    "                    nrows=600000 #Skip dates before 2016-08-01\n",
    "                    )"
   ]
  },
  {
   "cell_type": "code",
   "execution_count": 20,
   "metadata": {
    "collapsed": false,
    "deletable": true,
    "editable": true
   },
   "outputs": [
    {
     "name": "stdout",
     "output_type": "stream",
     "text": [
      "finish loading 2017-11-26 21:13:35.408308\n"
     ]
    }
   ],
   "source": [
    "#---------------------------------------------------------\n",
    "print('finish loading',datetime.datetime.now())\n",
    "\n",
    "train.loc[(train.unit_sales<0),'unit_sales'] = 0 # eliminate negatives\n",
    "train['unit_sales'] =  train['unit_sales'].apply(pd.np.log1p) #logarithm conversion\n",
    "train['dow'] = train['date'].dt.dayofweek"
   ]
  },
  {
   "cell_type": "code",
   "execution_count": 21,
   "metadata": {
    "collapsed": false,
    "deletable": true,
    "editable": true
   },
   "outputs": [
    {
     "name": "stdout",
     "output_type": "stream",
     "text": [
      "finish data 2017-11-26 21:13:35.762635\n"
     ]
    }
   ],
   "source": [
    "# creating records for all items, in all markets on all dates\n",
    "# for correct calculation of daily unit sales averages.\n",
    "#---------------------------------------------------------\n",
    "print('finish data',datetime.datetime.now())\n",
    "u_dates = train.date.unique()\n",
    "u_stores = train.store_nbr.unique()\n",
    "u_items = train.item_nbr.unique()\n",
    "train.set_index(['date', 'store_nbr', 'item_nbr'], inplace=True)\n",
    "train = train.reindex(\n",
    "    pd.MultiIndex.from_product(\n",
    "        (u_dates, u_stores, u_items),\n",
    "        names=['date','store_nbr','item_nbr']\n",
    "    )\n",
    ")"
   ]
  },
  {
   "cell_type": "code",
   "execution_count": 22,
   "metadata": {
    "collapsed": false,
    "deletable": true,
    "editable": true
   },
   "outputs": [
    {
     "name": "stdout",
     "output_type": "stream",
     "text": [
      "finish sep 2017-11-26 21:13:36.187648\n"
     ]
    }
   ],
   "source": [
    "#---------------------------------------------------------\n",
    "print('finish sep',datetime.datetime.now())\n",
    "del u_dates, u_stores, u_items\n",
    "\n",
    "train.loc[:, 'unit_sales'].fillna(0, inplace=True) # fill NaNs\n",
    "train.reset_index(inplace=True) # reset index and restoring unique columns  \n",
    "lastdate = train.iloc[train.shape[0]-1].date"
   ]
  },
  {
   "cell_type": "code",
   "execution_count": 26,
   "metadata": {
    "collapsed": false,
    "deletable": true,
    "editable": true
   },
   "outputs": [
    {
     "name": "stdout",
     "output_type": "stream",
     "text": [
      "get lastdate 2017-11-26 21:21:41.534475\n"
     ]
    }
   ],
   "source": [
    "#---------------------------------------------------------\n",
    "print('get lastdate',datetime.datetime.now())\n",
    "#Days of Week Means\n",
    "#By tarobxl: https://www.kaggle.com/c/favorita-grocery-sales-forecasting/discussion/42948\n",
    "ma_dw = train[['item_nbr','store_nbr','dow','unit_sales']].groupby(['item_nbr','store_nbr','dow'])['unit_sales'].mean().to_frame('madw')\n",
    "ma_dw.reset_index(inplace=True)\n",
    "ma_wk = ma_dw[['item_nbr','store_nbr','madw']].groupby(['store_nbr', 'item_nbr'])['madw'].mean().to_frame('mawk')\n",
    "ma_wk.reset_index(inplace=True)\n",
    "\n",
    "\n"
   ]
  },
  {
   "cell_type": "code",
   "execution_count": null,
   "metadata": {
    "collapsed": false
   },
   "outputs": [],
   "source": [
    "#-------------------------------------------\n",
    "# normalization\n",
    "se_max = train[['item_nbr','store_nbr','dow','unit_sales']].groupby(['item_nbr','store_nbr','dow'])['unit_sales'].quantile(0.9,interpolation='lower').to_frame('semax')\n",
    "se_max.reset_index(inplace=True)\n",
    "\n",
    "se_min = train[['item_nbr','store_nbr','dow','unit_sales']].groupby(['item_nbr','store_nbr','dow'])['unit_sales'].quantile(0.1,interpolation='lower').to_frame('semin')\n",
    "se_min.reset_index(inplace=True)\n",
    "\n",
    "new_train = pd.merge(train, se_max, how='left', on=['item_nbr','store_nbr','dow'])\n",
    "new_train = pd.merge(new_train, se_min, how='left', on=['item_nbr','store_nbr','dow'])\n",
    "new_train['unit_sales'] = (new_train['semax'] - new_train['unit_sales'])/(new_train['semax'] - new_train['semin'])\n",
    "\n",
    "new_train.loc[(train.unit_sales<0),'unit_sales'] = 0\n",
    "new_train.loc[(train.unit_sales>1),'unit_sales'] = 1"
   ]
  },
  {
   "cell_type": "code",
   "execution_count": null,
   "metadata": {
    "collapsed": false,
    "deletable": true,
    "editable": true
   },
   "outputs": [],
   "source": []
  },
  {
   "cell_type": "code",
   "execution_count": 25,
   "metadata": {
    "collapsed": false,
    "deletable": true,
    "editable": true
   },
   "outputs": [],
   "source": [
    "\n"
   ]
  },
  {
   "cell_type": "code",
   "execution_count": null,
   "metadata": {
    "collapsed": true
   },
   "outputs": [],
   "source": []
  },
  {
   "cell_type": "code",
   "execution_count": null,
   "metadata": {
    "collapsed": true,
    "deletable": true,
    "editable": true
   },
   "outputs": [],
   "source": []
  },
  {
   "cell_type": "code",
   "execution_count": null,
   "metadata": {
    "collapsed": true,
    "deletable": true,
    "editable": true
   },
   "outputs": [],
   "source": []
  },
  {
   "cell_type": "code",
   "execution_count": null,
   "metadata": {
    "collapsed": true,
    "deletable": true,
    "editable": true
   },
   "outputs": [],
   "source": []
  },
  {
   "cell_type": "code",
   "execution_count": null,
   "metadata": {
    "collapsed": true,
    "deletable": true,
    "editable": true
   },
   "outputs": [],
   "source": [
    "#---------------------------------------------------------\n",
    "print('get ma_dw ma_wk',datetime.datetime.now())\n",
    "#Moving Averages\n",
    "ma_is = train[['item_nbr','store_nbr','unit_sales']].groupby(['item_nbr','store_nbr'])['unit_sales'].mean().to_frame('mais226')\n",
    "for i in [112,56,28,14,7,3,1]:\n",
    "    tmp = train[train.date>lastdate-timedelta(int(i))]\n",
    "    tmpg = tmp.groupby(['item_nbr','store_nbr'])['unit_sales'].mean().to_frame('mais'+str(i))\n",
    "    ma_is = ma_is.join(tmpg, how='left')"
   ]
  },
  {
   "cell_type": "code",
   "execution_count": null,
   "metadata": {
    "collapsed": true,
    "deletable": true,
    "editable": true
   },
   "outputs": [],
   "source": [
    "#---------------------------------------------------------\n",
    "print('get MA',datetime.datetime.now())\n",
    "del tmp,tmpg,train\n",
    "\n",
    "ma_is['mais']=ma_is.median(axis=1)\n",
    "ma_is.reset_index(inplace=True)"
   ]
  },
  {
   "cell_type": "code",
   "execution_count": null,
   "metadata": {
    "collapsed": true,
    "deletable": true,
    "editable": true
   },
   "outputs": [],
   "source": [
    "#---------------------------------------------------------\n",
    "print('get median of MA',datetime.datetime.now())\n",
    "#Load test\n",
    "test = pd.read_csv('~/git/data/test.csv', dtype=dtypes, parse_dates=['date'])\n",
    "test['dow'] = test['date'].dt.dayofweek\n",
    "test = pd.merge(test, ma_is, how='left', on=['item_nbr','store_nbr'])\n",
    "test = pd.merge(test, ma_wk, how='left', on=['item_nbr','store_nbr'])\n",
    "test = pd.merge(test, ma_dw, how='left', on=['item_nbr','store_nbr','dow'])\n",
    "test = pd.merge(test, se_max, how='left', on=['item_nbr','store_nbr','dow'])\n",
    "test = pd.merge(test, se_min, how='left', on=['item_nbr','store_nbr','dow'])"
   ]
  },
  {
   "cell_type": "code",
   "execution_count": null,
   "metadata": {
    "collapsed": true,
    "deletable": true,
    "editable": true
   },
   "outputs": [],
   "source": [
    "#---------------------------------------------------------\n",
    "print('get test',datetime.datetime.now())\n",
    "del ma_is, ma_wk, ma_dw, se_max, se_min\n",
    "\n",
    "#Forecasting Test\n",
    "test['unit_sales'] = test.mais \n",
    "pos_idx = test['mawk'] > 0\n",
    "test_pos = test.loc[pos_idx]\n",
    "test.loc[pos_idx, 'unit_sales'] = test_pos['mais'] * test_pos['madw'] / test_pos['mawk']\n",
    "test.loc[:, \"unit_sales\"].fillna(0, inplace=True)\n",
    "\n",
    "test['unit_sales'] = test['semax'] - test['unit_sales'] * (test['semax'] - test['semin'])\n",
    "test['unit_sales'] = test['unit_sales'].apply(pd.np.expm1) # restoring unit values "
   ]
  },
  {
   "cell_type": "code",
   "execution_count": null,
   "metadata": {
    "collapsed": true,
    "deletable": true,
    "editable": true
   },
   "outputs": [],
   "source": [
    "#---------------------------------------------------------\n",
    "print('get results',datetime.datetime.now())\n",
    "#50% more for promotion items\n",
    "test.loc[test['onpromotion'] == True, 'unit_sales'] *= 1.5\n",
    "\n",
    "test[['id','unit_sales']].to_csv('ma8dwof.csv.gz', index=False, float_format='%.3f', compression='gzip')"
   ]
  },
  {
   "cell_type": "code",
   "execution_count": null,
   "metadata": {
    "collapsed": true,
    "deletable": true,
    "editable": true
   },
   "outputs": [],
   "source": []
  },
  {
   "cell_type": "code",
   "execution_count": null,
   "metadata": {
    "collapsed": true,
    "deletable": true,
    "editable": true
   },
   "outputs": [],
   "source": []
  },
  {
   "cell_type": "code",
   "execution_count": null,
   "metadata": {
    "collapsed": false,
    "deletable": true,
    "editable": true
   },
   "outputs": [],
   "source": []
  },
  {
   "cell_type": "code",
   "execution_count": null,
   "metadata": {
    "collapsed": true,
    "deletable": true,
    "editable": true
   },
   "outputs": [],
   "source": []
  }
 ],
 "metadata": {
  "kernelspec": {
   "display_name": "Python 3",
   "language": "python",
   "name": "python3"
  },
  "language_info": {
   "codemirror_mode": {
    "name": "ipython",
    "version": 3
   },
   "file_extension": ".py",
   "mimetype": "text/x-python",
   "name": "python",
   "nbconvert_exporter": "python",
   "pygments_lexer": "ipython3",
   "version": "3.5.2"
  }
 },
 "nbformat": 4,
 "nbformat_minor": 2
}
